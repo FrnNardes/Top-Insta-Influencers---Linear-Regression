{
  "cells": [
    {
      "cell_type": "markdown",
      "metadata": {
        "id": "view-in-github",
        "colab_type": "text"
      },
      "source": [
        "<a href=\"https://colab.research.google.com/github/FrnNardes/Top-Insta-Influencers---Linear-Regression/blob/main/LinearRegressionRESTIC36.ipynb\" target=\"_parent\"><img src=\"https://colab.research.google.com/assets/colab-badge.svg\" alt=\"Open In Colab\"/></a>"
      ]
    },
    {
      "cell_type": "markdown",
      "metadata": {
        "id": "7n5HloIDWyqo"
      },
      "source": [
        "Importando bibliotecas e adicionando arquivo csv\n"
      ]
    },
    {
      "cell_type": "code",
      "execution_count": null,
      "metadata": {
        "colab": {
          "base_uri": "https://localhost:8080/",
          "height": 56
        },
        "id": "3_PG6MbPMXXw",
        "outputId": "3b136f57-0498-452c-9cd9-3badec061dc1"
      },
      "outputs": [
        {
          "output_type": "stream",
          "name": "stdout",
          "text": [
            "Por favor, faça o upload do arquivo CSV.\n"
          ]
        },
        {
          "output_type": "display_data",
          "data": {
            "text/plain": [
              "<IPython.core.display.HTML object>"
            ],
            "text/html": [
              "\n",
              "     <input type=\"file\" id=\"files-8695136f-1f88-4f3a-82a8-5db84f8ee437\" name=\"files[]\" multiple disabled\n",
              "        style=\"border:none\" />\n",
              "     <output id=\"result-8695136f-1f88-4f3a-82a8-5db84f8ee437\">\n",
              "      Upload widget is only available when the cell has been executed in the\n",
              "      current browser session. Please rerun this cell to enable.\n",
              "      </output>\n",
              "      <script>// Copyright 2017 Google LLC\n",
              "//\n",
              "// Licensed under the Apache License, Version 2.0 (the \"License\");\n",
              "// you may not use this file except in compliance with the License.\n",
              "// You may obtain a copy of the License at\n",
              "//\n",
              "//      http://www.apache.org/licenses/LICENSE-2.0\n",
              "//\n",
              "// Unless required by applicable law or agreed to in writing, software\n",
              "// distributed under the License is distributed on an \"AS IS\" BASIS,\n",
              "// WITHOUT WARRANTIES OR CONDITIONS OF ANY KIND, either express or implied.\n",
              "// See the License for the specific language governing permissions and\n",
              "// limitations under the License.\n",
              "\n",
              "/**\n",
              " * @fileoverview Helpers for google.colab Python module.\n",
              " */\n",
              "(function(scope) {\n",
              "function span(text, styleAttributes = {}) {\n",
              "  const element = document.createElement('span');\n",
              "  element.textContent = text;\n",
              "  for (const key of Object.keys(styleAttributes)) {\n",
              "    element.style[key] = styleAttributes[key];\n",
              "  }\n",
              "  return element;\n",
              "}\n",
              "\n",
              "// Max number of bytes which will be uploaded at a time.\n",
              "const MAX_PAYLOAD_SIZE = 100 * 1024;\n",
              "\n",
              "function _uploadFiles(inputId, outputId) {\n",
              "  const steps = uploadFilesStep(inputId, outputId);\n",
              "  const outputElement = document.getElementById(outputId);\n",
              "  // Cache steps on the outputElement to make it available for the next call\n",
              "  // to uploadFilesContinue from Python.\n",
              "  outputElement.steps = steps;\n",
              "\n",
              "  return _uploadFilesContinue(outputId);\n",
              "}\n",
              "\n",
              "// This is roughly an async generator (not supported in the browser yet),\n",
              "// where there are multiple asynchronous steps and the Python side is going\n",
              "// to poll for completion of each step.\n",
              "// This uses a Promise to block the python side on completion of each step,\n",
              "// then passes the result of the previous step as the input to the next step.\n",
              "function _uploadFilesContinue(outputId) {\n",
              "  const outputElement = document.getElementById(outputId);\n",
              "  const steps = outputElement.steps;\n",
              "\n",
              "  const next = steps.next(outputElement.lastPromiseValue);\n",
              "  return Promise.resolve(next.value.promise).then((value) => {\n",
              "    // Cache the last promise value to make it available to the next\n",
              "    // step of the generator.\n",
              "    outputElement.lastPromiseValue = value;\n",
              "    return next.value.response;\n",
              "  });\n",
              "}\n",
              "\n",
              "/**\n",
              " * Generator function which is called between each async step of the upload\n",
              " * process.\n",
              " * @param {string} inputId Element ID of the input file picker element.\n",
              " * @param {string} outputId Element ID of the output display.\n",
              " * @return {!Iterable<!Object>} Iterable of next steps.\n",
              " */\n",
              "function* uploadFilesStep(inputId, outputId) {\n",
              "  const inputElement = document.getElementById(inputId);\n",
              "  inputElement.disabled = false;\n",
              "\n",
              "  const outputElement = document.getElementById(outputId);\n",
              "  outputElement.innerHTML = '';\n",
              "\n",
              "  const pickedPromise = new Promise((resolve) => {\n",
              "    inputElement.addEventListener('change', (e) => {\n",
              "      resolve(e.target.files);\n",
              "    });\n",
              "  });\n",
              "\n",
              "  const cancel = document.createElement('button');\n",
              "  inputElement.parentElement.appendChild(cancel);\n",
              "  cancel.textContent = 'Cancel upload';\n",
              "  const cancelPromise = new Promise((resolve) => {\n",
              "    cancel.onclick = () => {\n",
              "      resolve(null);\n",
              "    };\n",
              "  });\n",
              "\n",
              "  // Wait for the user to pick the files.\n",
              "  const files = yield {\n",
              "    promise: Promise.race([pickedPromise, cancelPromise]),\n",
              "    response: {\n",
              "      action: 'starting',\n",
              "    }\n",
              "  };\n",
              "\n",
              "  cancel.remove();\n",
              "\n",
              "  // Disable the input element since further picks are not allowed.\n",
              "  inputElement.disabled = true;\n",
              "\n",
              "  if (!files) {\n",
              "    return {\n",
              "      response: {\n",
              "        action: 'complete',\n",
              "      }\n",
              "    };\n",
              "  }\n",
              "\n",
              "  for (const file of files) {\n",
              "    const li = document.createElement('li');\n",
              "    li.append(span(file.name, {fontWeight: 'bold'}));\n",
              "    li.append(span(\n",
              "        `(${file.type || 'n/a'}) - ${file.size} bytes, ` +\n",
              "        `last modified: ${\n",
              "            file.lastModifiedDate ? file.lastModifiedDate.toLocaleDateString() :\n",
              "                                    'n/a'} - `));\n",
              "    const percent = span('0% done');\n",
              "    li.appendChild(percent);\n",
              "\n",
              "    outputElement.appendChild(li);\n",
              "\n",
              "    const fileDataPromise = new Promise((resolve) => {\n",
              "      const reader = new FileReader();\n",
              "      reader.onload = (e) => {\n",
              "        resolve(e.target.result);\n",
              "      };\n",
              "      reader.readAsArrayBuffer(file);\n",
              "    });\n",
              "    // Wait for the data to be ready.\n",
              "    let fileData = yield {\n",
              "      promise: fileDataPromise,\n",
              "      response: {\n",
              "        action: 'continue',\n",
              "      }\n",
              "    };\n",
              "\n",
              "    // Use a chunked sending to avoid message size limits. See b/62115660.\n",
              "    let position = 0;\n",
              "    do {\n",
              "      const length = Math.min(fileData.byteLength - position, MAX_PAYLOAD_SIZE);\n",
              "      const chunk = new Uint8Array(fileData, position, length);\n",
              "      position += length;\n",
              "\n",
              "      const base64 = btoa(String.fromCharCode.apply(null, chunk));\n",
              "      yield {\n",
              "        response: {\n",
              "          action: 'append',\n",
              "          file: file.name,\n",
              "          data: base64,\n",
              "        },\n",
              "      };\n",
              "\n",
              "      let percentDone = fileData.byteLength === 0 ?\n",
              "          100 :\n",
              "          Math.round((position / fileData.byteLength) * 100);\n",
              "      percent.textContent = `${percentDone}% done`;\n",
              "\n",
              "    } while (position < fileData.byteLength);\n",
              "  }\n",
              "\n",
              "  // All done.\n",
              "  yield {\n",
              "    response: {\n",
              "      action: 'complete',\n",
              "    }\n",
              "  };\n",
              "}\n",
              "\n",
              "scope.google = scope.google || {};\n",
              "scope.google.colab = scope.google.colab || {};\n",
              "scope.google.colab._files = {\n",
              "  _uploadFiles,\n",
              "  _uploadFilesContinue,\n",
              "};\n",
              "})(self);\n",
              "</script> "
            ]
          },
          "metadata": {}
        }
      ],
      "source": [
        "import pandas as pd\n",
        "from google.colab import files\n",
        "\n",
        "# Fazer upload do arquivo\n",
        "print(\"Por favor, faça o upload do arquivo CSV.\")\n",
        "uploaded = files.upload()\n",
        "\n",
        "# Exibir os nomes dos arquivos carregados\n",
        "for filename in uploaded.keys():\n",
        "    print(f\"Arquivo carregado: {filename}\")\n",
        "\n",
        "# Coloca na variável file_path o primeiro arquivo carregado e lê o CSV\n",
        "file_path = list(uploaded.keys())[0]\n",
        "df = pd.read_csv(file_path)\n"
      ]
    },
    {
      "cell_type": "markdown",
      "metadata": {
        "id": "pi20__tJYuSd"
      },
      "source": [
        "**Analise Exploratória de Dados (EDA)**"
      ]
    },
    {
      "cell_type": "code",
      "execution_count": null,
      "metadata": {
        "id": "T6AUCdU3WxC0"
      },
      "outputs": [],
      "source": [
        "df.head()"
      ]
    },
    {
      "cell_type": "code",
      "execution_count": null,
      "metadata": {
        "id": "jlzgU01gaO65"
      },
      "outputs": [],
      "source": [
        "df.info()"
      ]
    },
    {
      "cell_type": "markdown",
      "metadata": {
        "id": "8oi2yRxMHiH5"
      },
      "source": [
        "**Convertendo os prefixos 'k', 'm', 'b', '%' para suas respectivas representações numéricas**"
      ]
    },
    {
      "cell_type": "code",
      "execution_count": null,
      "metadata": {
        "id": "_3nbdhjIao69"
      },
      "outputs": [],
      "source": [
        "def convert_to_numeric(value):\n",
        "    if isinstance(value, str):\n",
        "        if 'k' in value:\n",
        "            return float(value.replace('k', '')) * 1e3\n",
        "        elif 'm' in value:\n",
        "            return float(value.replace('m', '')) * 1e6\n",
        "        elif 'b' in value:\n",
        "            return float(value.replace('b', '')) * 1e9\n",
        "        elif '%' in value:\n",
        "            return float(value.replace('%', '')) / 100\n",
        "    return value\n",
        "\n",
        "df['new_post_avg_like'] = df['new_post_avg_like'].replace('0', np.nan)\n",
        "\n",
        "columns_to_convert = ['posts', 'followers', 'avg_likes', '60_day_eng_rate', 'new_post_avg_like', 'total_likes']\n",
        "for col in columns_to_convert:\n",
        "    df[col] = df[col].apply(convert_to_numeric)\n",
        "\n",
        "# Verificar o resultado das conversões\n",
        "df[columns_to_convert].head()"
      ]
    },
    {
      "cell_type": "markdown",
      "metadata": {
        "id": "JVdbhnVlJbnn"
      },
      "source": [
        "**Algumas estatisticas gerais de cada coluna**"
      ]
    },
    {
      "cell_type": "code",
      "execution_count": null,
      "metadata": {
        "id": "A7k1QDuiao-i"
      },
      "outputs": [],
      "source": [
        "print(df.describe())\n",
        "print(df.info())"
      ]
    },
    {
      "cell_type": "markdown",
      "source": [
        "*Havia um valor = '0' fazendo com que 'new_post_avg_like' ficasse com o tipo object, então transformei o valor em NaN, para ser removido posteriormente no codigo*"
      ],
      "metadata": {
        "id": "S7aAXZ-Wnuu4"
      }
    },
    {
      "cell_type": "code",
      "source": [
        "df['new_post_avg_like'].unique()"
      ],
      "metadata": {
        "id": "S7pW8dTnmTsb"
      },
      "execution_count": null,
      "outputs": []
    },
    {
      "cell_type": "markdown",
      "metadata": {
        "id": "_gKNZujmJf5U"
      },
      "source": [
        "**Matriz de correlação**"
      ]
    },
    {
      "cell_type": "code",
      "execution_count": null,
      "metadata": {
        "id": "EXYyadBCO6ed"
      },
      "outputs": [],
      "source": [
        "import seaborn as sns\n",
        "\n",
        "sns.pairplot(df, kind='scatter', plot_kws={'alpha' : 0.4})\n"
      ]
    },
    {
      "cell_type": "markdown",
      "metadata": {
        "id": "66AC9xZ4IFLa"
      },
      "source": [
        "**Removendo alguns outliers**\n",
        "\n",
        "---\n",
        "\n",
        "\n",
        "*Fiz diversos testes, e o que obtive a maior precisao foi fazendo IQR apenas na coluna '60_day_eng_rate', 'influence_score' e na variavel dependende de followers, pois a alguns valores muito descrepantes com a tendencia*"
      ]
    },
    {
      "cell_type": "code",
      "execution_count": null,
      "metadata": {
        "id": "yZxB7MoqI1Je"
      },
      "outputs": [],
      "source": [
        "# Colunas utilizadas no processo\n",
        "numerical_features = ['60_day_eng_rate', 'followers']\n",
        "\n",
        "# Iteração\n",
        "for feature in numerical_features:\n",
        "    Q1 = df[feature].quantile(0.25)\n",
        "    Q3 = df[feature].quantile(0.75)\n",
        "    IQR = Q3 - Q1\n",
        "\n",
        "    # Limites inferior e superior\n",
        "    lower_bound = Q1 - 1.5 * IQR\n",
        "    upper_bound = Q3 + 1.5 * IQR\n",
        "\n",
        "    # Filtra o DataFrame, removendo os outliers da coluna atual\n",
        "    df_filtered = df_filtered[(df_filtered[feature] >= lower_bound) & (df_filtered[feature] <= upper_bound)]\n",
        "\n",
        "# Reseta o índice do DF\n",
        "df_filtered = df_filtered.reset_index(drop=True)"
      ]
    },
    {
      "cell_type": "markdown",
      "metadata": {
        "id": "B8JU0_E9UGx9"
      },
      "source": [
        "**Matriz de Correlação após IQR**"
      ]
    },
    {
      "cell_type": "code",
      "execution_count": null,
      "metadata": {
        "id": "8QkeiNLOOUkM"
      },
      "outputs": [],
      "source": [
        "sns.pairplot(df_filtered, kind='scatter', plot_kws={'alpha' : 0.4})"
      ]
    },
    {
      "cell_type": "markdown",
      "metadata": {
        "id": "Vsr6b9sqZ2VL"
      },
      "source": [
        "**Rodando o modelo de regressão linear**"
      ]
    },
    {
      "cell_type": "code",
      "execution_count": null,
      "metadata": {
        "id": "bMK9uekOZloR"
      },
      "outputs": [],
      "source": [
        "import numpy as np\n",
        "from sklearn.model_selection import train_test_split\n",
        "from sklearn.linear_model import LinearRegression\n",
        "from sklearn.metrics import r2_score, mean_squared_error, mean_absolute_error\n",
        "from sklearn.model_selection import cross_val_score, KFold\n",
        "from sklearn.preprocessing import StandardScaler\n",
        "\n",
        "# Selecionar features e variável alvo\n",
        "features = ['posts', 'avg_likes', '60_day_eng_rate','new_post_avg_like','total_likes', 'influence_score']\n",
        "target = 'followers'\n",
        "\n",
        "# Remover valores NaN\n",
        "df_clean = df_filtered[features + [target]].dropna()\n",
        "\n",
        "# Dividir em conjuntos de treino e teste\n",
        "X = df_clean[features]\n",
        "y = df_clean[target]\n",
        "X_train, X_test, y_train, y_test = train_test_split(X, y, test_size=0.2, random_state=42)\n",
        "\n",
        "# Criar e aplicar o StandardScaler\n",
        "scaler = StandardScaler()\n",
        "X_train_scaled = scaler.fit_transform(X_train)\n",
        "X_test_scaled = scaler.transform(X_test)\n",
        "\n",
        "# Ajustar o modelo de regressão linear com dados escalados\n",
        "model = LinearRegression(fit_intercept=True, copy_X=True, positive=False)\n",
        "model.fit(X_train_scaled, y_train)\n",
        "\n",
        "# Prever no conjunto de teste escalado\n",
        "y_pred = model.predict(X_test_scaled)\n",
        "\n",
        "# Avaliar o modelo\n",
        "r2 = r2_score(y_test, y_pred)\n",
        "rmse = np.sqrt(mean_squared_error(y_test, y_pred))\n",
        "mae = mean_absolute_error(y_test, y_pred)\n",
        "\n",
        "kf = KFold(n_splits=5, shuffle=True, random_state=42)\n",
        "\n",
        "# Calcular o RMSE usando validação cruzada\n",
        "scores = cross_val_score(model, X, y, cv=kf, scoring='neg_mean_squared_error')\n",
        "rmse_scores = np.sqrt(-scores)\n",
        "\n",
        "# Imprimir os resultados\n",
        "print(\"R2:\", r2)\n",
        "print(\"RMSE:\", rmse)\n",
        "print(\"MAE:\", mae)\n",
        "print('-----------------------')\n",
        "print(f\"RMSE médio: {rmse_scores.mean():.2f}\")\n",
        "print(f\"Desvio padrão do RMSE: {rmse_scores.std():.2f}\")\n",
        "print('-----------------------')\n",
        "print(f\"Obtemos um R² de {r2*100}%, o que significa que o modelo explica ~70% da variação nos dados. E nosso RMSE = {rmse} mostra que o modelo erra em média ~7 milhões de unidades e um MAE de ~5 milhoes. Considerando o alto valor de seguidores dos influenciadores, este valor fica aceitavel.\")"
      ]
    },
    {
      "cell_type": "markdown",
      "metadata": {
        "id": "mMJ4btYdSG6y"
      },
      "source": [
        "**Plotando as relações**\n",
        "\n",
        "\n",
        "---\n",
        "\n",
        "\n",
        "*Como temos mais de 3 dimensoes, não podemos visualiza-las em conjunto, mas podemos plotar as relações de cada uma com a variavel dependente e sua reta de regressão linear*"
      ]
    },
    {
      "cell_type": "code",
      "execution_count": null,
      "metadata": {
        "id": "XxqXrwnl_K0u"
      },
      "outputs": [],
      "source": [
        "import matplotlib.pyplot as plt\n",
        "\n",
        "for feature in features:\n",
        "    sns.regplot(x=feature, y=target, data=df_clean, scatter_kws={'alpha': 0.4})\n",
        "    plt.title(f'{feature} vs {target}')\n",
        "    plt.show()"
      ]
    }
  ],
  "metadata": {
    "colab": {
      "provenance": [],
      "include_colab_link": true
    },
    "kernelspec": {
      "display_name": "Python 3",
      "name": "python3"
    },
    "language_info": {
      "name": "python"
    }
  },
  "nbformat": 4,
  "nbformat_minor": 0
}